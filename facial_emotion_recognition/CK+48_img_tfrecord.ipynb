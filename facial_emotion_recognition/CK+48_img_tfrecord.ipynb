{
 "cells": [
  {
   "cell_type": "code",
   "execution_count": 1,
   "metadata": {},
   "outputs": [],
   "source": [
    "import tensorflow as tf\n",
    "\n",
    "\n",
    "import cv2\n",
    "import os\n",
    "import matplotlib.pyplot as plt\n",
    "import sys\n",
    "\n",
    "import os.path as pth\n",
    "from tqdm import tqdm\n",
    "#import tqdm\n",
    "import pandas as pd \n",
    "import numpy as np\n",
    "from sklearn.model_selection import train_test_split\n",
    "import cv2\n",
    "\n",
    "# Tensorflow 관련 라이브러리\n",
    "import tensorflow as tf\n",
    "from tensorflow.keras.preprocessing.image import ImageDataGenerator\n",
    "from tensorflow.keras.models import Sequential, Model, load_model\n",
    "from tensorflow.keras.layers import Conv2D, Dense, MaxPooling2D, Dropout, BatchNormalization, PReLU\n",
    "from tensorflow.keras.layers import Flatten, Activation, Dense, GlobalAveragePooling2D, Softmax\n",
    "from tensorflow.keras.callbacks import ModelCheckpoint, EarlyStopping, ReduceLROnPlateau\n",
    "from tensorflow.keras.optimizers import Adam\n",
    "\n",
    "# tensorflow에서 사용할 수 없는 기능을 구현하는 기여 저장소\n",
    "from tensorflow_addons import optimizers\n",
    "\n",
    "gpus = tf.config.experimental.list_physical_devices('GPU')\n",
    "if gpus:\n",
    "    # 특정 GPU에 1GB 메모리만 할당하도록 제한\n",
    "    try:\n",
    "        tf.config.experimental.set_visible_devices(gpus[0], 'GPU')\n",
    "        \n",
    "        tf.config.experimental.set_memory_growth(gpus[0], True)\n",
    "        \n",
    "#         tf.config.experimental.set_virtual_device_configuration(\n",
    "#             gpus[0],\n",
    "#             [tf.config.experimental.VirtualDeviceConfiguration(memory_limit=15000)])\n",
    "    except RuntimeError as e:\n",
    "    # 프로그램 시작시에 가상 장치가 설정되어야만 합니다\n",
    "        print(e)"
   ]
  },
  {
   "cell_type": "code",
   "execution_count": 2,
   "metadata": {},
   "outputs": [
    {
     "name": "stdout",
     "output_type": "stream",
     "text": [
      "   Num    Emotion\n",
      "0    1      Happy\n",
      "1    2        Sad\n",
      "2    3      Angry\n",
      "3    4    Fearful\n",
      "4    5  Surprised\n"
     ]
    },
    {
     "data": {
      "text/plain": [
       "'Angry'"
      ]
     },
     "execution_count": 2,
     "metadata": {},
     "output_type": "execute_result"
    }
   ],
   "source": [
    "# 엑셀 1번 시트에 맞춰 라벨링\n",
    "\n",
    "label_df = pd.read_excel('./data/categries_emo_new.xlsx')\n",
    "label_dict = dict(label_df[['Num','Emotion']].values)\n",
    "\n",
    "\n",
    "# 파일 제목에서 3번째 항목만 사용\n",
    "print(label_df)\n",
    "\n",
    "emotion_arr = label_df.loc[:,'Num'].values\n",
    "\n",
    "\n",
    "emotion_list = emotion_arr.tolist()\n",
    "#print(emotion_list)\n",
    "\n",
    "\n",
    "# 리턴되는지 확인\n",
    "label_dict[3]"
   ]
  },
  {
   "cell_type": "code",
   "execution_count": null,
   "metadata": {
    "scrolled": true
   },
   "outputs": [],
   "source": [
    "#### 이미지 파일의 경로 + 라벨링 df 생성\n",
    "\n",
    "files = list()\n",
    "categories = list()\n",
    "\n",
    "path = './data/ck_img/CK+48'\n",
    "\n",
    "\n",
    "for img_cat in os.listdir(path):\n",
    "    cat = path + '/' + img_cat\n",
    "    \n",
    "    for img_dir in os.listdir(cat):\n",
    "        files.append(cat + '/' + img_dir)\n",
    "        \n",
    "# print(files)\n",
    "\n",
    "for file_path in files:\n",
    "    \n",
    "    emo = file_path.split('/')[4]\n",
    "    \n",
    "    if emo == 'happy':\n",
    "        categories.append('1')\n",
    "        \n",
    "    elif emo == 'sadness':\n",
    "        categories.append('2')\n",
    "        \n",
    "    elif emo == 'anger':\n",
    "        categories.append('3')\n",
    "        \n",
    "    elif emo == 'fear':\n",
    "        categories.append('4')\n",
    "        \n",
    "    else:\n",
    "        categories.append('5')\n",
    "        \n",
    "        \n",
    "            \n",
    "ck_train_data = pd.DataFrame({'file':files,\n",
    "                              'label':categories})\n",
    "\n",
    "\n",
    "\n",
    "label = ck_train_data.loc[:,'label'].values\n",
    "emotion = list()\n",
    "\n",
    "for n in label:\n",
    "    emotion.append(label_dict[int(n)])\n",
    "    \n",
    "    \n",
    "ck_train_data['emotion'] = emotion\n",
    "ck_train_data\n",
    "\n",
    "\n"
   ]
  },
  {
   "cell_type": "code",
   "execution_count": null,
   "metadata": {},
   "outputs": [],
   "source": [
    "grouped_re = ck_train_data['file'].groupby(ck_train_data['emotion'])\n",
    "\n",
    "# print(grouped_cro)\n",
    "\n",
    "grouped_re.size()"
   ]
  },
  {
   "cell_type": "code",
   "execution_count": 3,
   "metadata": {},
   "outputs": [],
   "source": [
    "def _bytes_feature(value):\n",
    "    \"\"\"Returns a bytes_list from a string / byte.\"\"\"\n",
    "    if isinstance(value, type(tf.constant(0))):\n",
    "        value = value.numpy() # BytesList won't unpack a string from an EagerTensor.\n",
    "    return tf.train.Feature(bytes_list=tf.train.BytesList(value=[value]))\n",
    "\n",
    "def _float_feature(value):\n",
    "    \"\"\"Returns a float_list from a float / double.\"\"\"\n",
    "    return tf.train.Feature(float_list=tf.train.FloatList(value=[value]))\n",
    "\n",
    "def _floatarray_feature(array):\n",
    "    \"\"\"Returns a float_list from a float / double.\"\"\"\n",
    "    return tf.train.Feature(float_list=tf.train.FloatList(value=array))\n",
    "\n",
    "def _int64_feature(value):\n",
    "    \"\"\"Returns an int64_list from a bool / enum / int / uint.\"\"\"\n",
    "    return tf.train.Feature(int64_list=tf.train.Int64List(value=[value]))\n",
    "\n",
    "\n",
    "def _validate_text(text):\n",
    "    \"\"\"If text is not str or unicode, then try to convert it to str.\"\"\"\n",
    "    if isinstance(text, str):\n",
    "        return text\n",
    "    elif isinstance(text, 'unicode'):\n",
    "        return text.encode('utf8', 'ignore')\n",
    "    else:\n",
    "        return str(text)"
   ]
  },
  {
   "cell_type": "code",
   "execution_count": null,
   "metadata": {},
   "outputs": [],
   "source": [
    "def to_tfrecords(id_list, emotion_list, tfrecords_name):\n",
    "    print(\"Start converting\")\n",
    "    options = tf.io.TFRecordOptions(compression_type = 'GZIP')\n",
    "    with tf.io.TFRecordWriter(path=pth.join(tfrecords_name+'.tfrecords'), options=options) as writer:\n",
    "        for id_, emotion_id in tqdm(zip(id_list, emotion_list), total=len(id_list), position=0, leave=True):\n",
    "            image_path = pth.join(id_) # 불러올 이미지 위치 입력\n",
    "            _binary_image = tf.io.read_file(image_path)\n",
    "            \n",
    "            # 타입 변환 함수 넣어서 타입 맞추기    \n",
    "            string_set = tf.train.Example(features=tf.train.Features(feature={\n",
    "                'image_raw': _bytes_feature(_binary_image),\n",
    "                'img_id': _bytes_feature(emotion_id.encode()),\n",
    "                'id': _bytes_feature(_validate_text(id_).encode()),\n",
    "            }))\n",
    "\n",
    "            writer.write(string_set.SerializeToString())   "
   ]
  },
  {
   "cell_type": "code",
   "execution_count": null,
   "metadata": {},
   "outputs": [],
   "source": [
    "# train, valid set 나누기\n",
    "with tf.device('/device:GPU:0'):\n",
    "    train_ids, val_ids, train_emotion_ids, val_emotion_ids = train_test_split(ck_train_data['file'], ck_train_data['label'], test_size=0.2, random_state=42, shuffle=True,\n",
    "                                                                              stratify=ck_train_data['label'])\n",
    "# 파일이 생성될 위치 지정\n",
    "    to_tfrecords(train_ids, train_emotion_ids, pth.join('./data/ck_tf', 'tf_record_train_5'))\n",
    "    to_tfrecords(val_ids, val_emotion_ids, pth.join('./data/ck_tf', 'tf_record_valid_5'))"
   ]
  },
  {
   "cell_type": "code",
   "execution_count": 4,
   "metadata": {},
   "outputs": [],
   "source": [
    "train_tfrecord_path = pth.join('./data/ck_tf', 'tf_record_train_5.tfrecords')\n",
    "valid_tfrecord_path = pth.join('./data/ck_tf', 'tf_record_valid_5.tfrecords')\n",
    "\n",
    "BUFFER_SIZE = 48\n",
    "BATCH_SIZE = 64\n",
    "NUM_CLASS = 5"
   ]
  },
  {
   "cell_type": "code",
   "execution_count": null,
   "metadata": {},
   "outputs": [],
   "source": [
    "# one-hot encoding test\n",
    "\n",
    "listTemp=[1,2,3,4,5]\n",
    "for n in listTemp:\n",
    "    test = tf.one_hot(n, depth=NUM_CLASS)\n",
    "    print(\"{}\".format(n))\n",
    "    print(test)\n",
    "    \n",
    "\n"
   ]
  },
  {
   "cell_type": "code",
   "execution_count": 5,
   "metadata": {},
   "outputs": [
    {
     "name": "stdout",
     "output_type": "stream",
     "text": [
      "<class 'tensorflow.python.framework.ops.Tensor'>\n",
      "<class 'tensorflow.python.framework.ops.Tensor'>\n"
     ]
    }
   ],
   "source": [
    "with tf.device('/device:GPU:0'):\n",
    "    image_feature_description = {\n",
    "        'image_raw': tf.io.FixedLenFeature([], tf.string),\n",
    "        'img_id': tf.io.FixedLenFeature([], tf.string),\n",
    "        # 'id': tf.io.FixedLenFeature([], tf.string),\n",
    "    }\n",
    "\n",
    "\n",
    "\n",
    "    def _parse_image_function(example_proto):\n",
    "        return tf.io.parse_single_example(example_proto, image_feature_description)\n",
    "\n",
    "    def map_func(target_record):\n",
    "        \n",
    "        img = target_record['image_raw']\n",
    "        label = int(target_record['img_id'])\n",
    "        img = tf.image.decode_jpeg(img, channels=3)\n",
    "        img = tf.dtypes.cast(img, tf.float32)\n",
    "        return img, label\n",
    "\n",
    "    def prep_func(image, label):\n",
    "        print(type(label))\n",
    "            \n",
    "        result_image = image / 255\n",
    "        result_image = tf.image.resize(result_image, (48,48))\n",
    "        \n",
    "        onehot_label = tf.one_hot(label, depth=NUM_CLASS)\n",
    "        return result_image, onehot_label\n",
    "\n",
    "    \n",
    "with tf.device('/device:GPU:0'):\n",
    "    dataset = tf.data.TFRecordDataset(train_tfrecord_path, compression_type='GZIP')\n",
    "    dataset = dataset.map(_parse_image_function, num_parallel_calls=tf.data.experimental.AUTOTUNE)\n",
    "    dataset = dataset.map(map_func, num_parallel_calls=tf.data.experimental.AUTOTUNE)\n",
    "    dataset = dataset.shuffle(BUFFER_SIZE)\n",
    "    dataset = dataset.batch(BATCH_SIZE)\n",
    "    dataset = dataset.map(prep_func, num_parallel_calls=tf.data.experimental.AUTOTUNE)\n",
    "    dataset = dataset.prefetch(buffer_size=tf.data.experimental.AUTOTUNE)\n",
    "\n",
    "    valid_dataset = tf.data.TFRecordDataset(valid_tfrecord_path, compression_type='GZIP')\n",
    "    valid_dataset = valid_dataset.map(_parse_image_function, num_parallel_calls=tf.data.experimental.AUTOTUNE)\n",
    "    valid_dataset = valid_dataset.map(map_func, num_parallel_calls=tf.data.experimental.AUTOTUNE)\n",
    "    valid_dataset = valid_dataset.shuffle(BUFFER_SIZE)\n",
    "    valid_dataset = valid_dataset.batch(BATCH_SIZE)\n",
    "    valid_dataset = valid_dataset.map(prep_func, num_parallel_calls=tf.data.experimental.AUTOTUNE)\n",
    "    valid_dataset = valid_dataset.prefetch(buffer_size=tf.data.experimental.AUTOTUNE)"
   ]
  },
  {
   "cell_type": "code",
   "execution_count": 7,
   "metadata": {},
   "outputs": [
    {
     "name": "stdout",
     "output_type": "stream",
     "text": [
      "(64, 48, 48, 3) (64, 5)\n",
      "[0. 0. 0. 0. 1.]\n",
      "Fearful\n"
     ]
    },
    {
     "data": {
      "image/png": "[encoded data removed]",
      "text/plain": [
       "<Figure size 432x288 with 1 Axes>"
      ]
     },
     "metadata": {
      "needs_background": "light"
     },
     "output_type": "display_data"
    }
   ],
   "source": [
    "for batch_x, batch_y in dataset:\n",
    "    print(batch_x.shape, batch_y.shape)\n",
    "    print(batch_y[0].numpy())\n",
    "\n",
    "    target_class = np.argmax(batch_y[0].numpy())\n",
    "    \n",
    "    if target_class == 0:\n",
    "        target_class = 5\n",
    "        \n",
    "    \n",
    "    print(label_dict[target_class])\n",
    "    \n",
    "#     if target_class==1:\n",
    "#         plt.figure()\n",
    "#         plt.imshow(batch_x[0].numpy())\n",
    "#         plt.show()\n",
    "#         break\n",
    "        \n",
    "    plt.figure()\n",
    "    plt.imshow(batch_x[0].numpy())\n",
    "    plt.show()\n",
    "    \n",
    "    break"
   ]
  },
  {
   "cell_type": "code",
   "execution_count": 8,
   "metadata": {},
   "outputs": [
    {
     "name": "stdout",
     "output_type": "stream",
     "text": [
      "(64, 48, 48, 3) (64, 5)\n",
      "Surprised\n"
     ]
    },
    {
     "data": {
      "image/png": "[encoded data removed]",
      "text/plain": [
       "<Figure size 432x288 with 1 Axes>"
      ]
     },
     "metadata": {
      "needs_background": "light"
     },
     "output_type": "display_data"
    }
   ],
   "source": [
    "for batch_x, batch_y in valid_dataset:\n",
    "    print(batch_x.shape, batch_y.shape)\n",
    "    \n",
    "    target_class = np.argmax(batch_y[0].numpy())\n",
    "    #print(target_class)\n",
    "    \n",
    "    if target_class == 0:\n",
    "        target_class = 5\n",
    "    \n",
    "    print(label_dict[target_class])\n",
    "    \n",
    "    plt.figure()\n",
    "    plt.imshow(batch_x[0].numpy())\n",
    "    plt.show()\n",
    "    \n",
    "    break"
   ]
  },
  {
   "cell_type": "code",
   "execution_count": 9,
   "metadata": {},
   "outputs": [],
   "source": [
    "earlystop = EarlyStopping(patience = 5)\n",
    "\n",
    "learning_rate_reduction = ReduceLROnPlateau(monitor = 'val_accuracy',\n",
    "                                            patience = 2,\n",
    "                                            factor = 0.5,\n",
    "                                            min_lr = 1e-7,\n",
    "                                            verbose = 1)\n",
    "\n",
    "model_check = ModelCheckpoint(filepath = './model/ck5_facial_cnn_48_48_ReLU.h5',\n",
    "                              monitor = 'val_loss',\n",
    "                              save_best_only = True)\n",
    "\n",
    "callbacks = [earlystop, learning_rate_reduction, model_check]"
   ]
  },
  {
   "cell_type": "code",
   "execution_count": 13,
   "metadata": {},
   "outputs": [],
   "source": [
    "input_shape=(48,48,3)\n",
    "\n",
    "model = Sequential()\n",
    "model.add(Conv2D(6, (5, 5), input_shape=input_shape, padding='same', activation = 'relu'))\n",
    "model.add(MaxPooling2D(pool_size=(2, 2)))\n",
    "\n",
    "model.add(Conv2D(16, (5, 5), padding='same', activation = 'relu'))\n",
    "model.add(Activation('relu'))\n",
    "model.add(MaxPooling2D(pool_size=(2, 2)))\n",
    "\n",
    "model.add(Conv2D(64, (3, 3), activation = 'relu'))\n",
    "model.add(MaxPooling2D(pool_size=(2, 2)))\n",
    "\n",
    "model.add(Flatten())\n",
    "model.add(Dense(128, activation = 'relu'))\n",
    "model.add(Dropout(0.5))\n",
    "model.add(Dense(5, activation = 'softmax'))"
   ]
  },
  {
   "cell_type": "code",
   "execution_count": null,
   "metadata": {},
   "outputs": [],
   "source": [
    "from tensorflow.keras.applications import MobileNetV2\n",
    "mobilenet = MobileNetV2(weights = 'imagenet', include_top = False, input_shape = (48,48,3))\n",
    "\n",
    "\n",
    "for layer in mobilenet.layers:\n",
    "    layer.trainable = True\n",
    "    \n",
    "for (i, layer) in enumerate(mobilenet.layers):\n",
    "    print(str(i), layer.__class__.__name__, layer.trainable)\n",
    "    \n",
    "    \n",
    "model = Sequential()\n",
    "model.add(mobilenet)\n",
    "model.add(GlobalAveragePooling2D())\n",
    "model.add(Dense(5))\n",
    "model.add(BatchNormalization())\n",
    "model.add(PReLU())\n",
    "model.add(Softmax(dtype='float32', name='softmax'))\n",
    "model.summary()"
   ]
  },
  {
   "cell_type": "code",
   "execution_count": 14,
   "metadata": {},
   "outputs": [],
   "source": [
    "model.compile(loss='categorical_crossentropy',\n",
    "              optimizer=optimizers.RectifiedAdam(learning_rate=0.001),\n",
    "              metrics=['accuracy'])"
   ]
  },
  {
   "cell_type": "code",
   "execution_count": 15,
   "metadata": {},
   "outputs": [
    {
     "name": "stdout",
     "output_type": "stream",
     "text": [
      "Epoch 1/100\n",
      "10/10 [==============================] - 0s 38ms/step - loss: 1.0769 - accuracy: 0.2150 - val_loss: 1.0676 - val_accuracy: 0.1667\n",
      "Epoch 2/100\n",
      "10/10 [==============================] - 0s 15ms/step - loss: 1.0619 - accuracy: 0.2217 - val_loss: 1.0477 - val_accuracy: 0.2733\n",
      "Epoch 3/100\n",
      "10/10 [==============================] - 0s 15ms/step - loss: 1.0372 - accuracy: 0.2750 - val_loss: 1.0186 - val_accuracy: 0.2733\n",
      "Epoch 4/100\n",
      " 8/10 [=======================>......] - ETA: 0s - loss: 1.0018 - accuracy: 0.2598\n",
      "Epoch 00004: ReduceLROnPlateau reducing learning rate to 0.0005000000237487257.\n",
      "10/10 [==============================] - 0s 15ms/step - loss: 1.0002 - accuracy: 0.2750 - val_loss: 0.9617 - val_accuracy: 0.2733\n",
      "Epoch 5/100\n",
      "10/10 [==============================] - 0s 16ms/step - loss: 0.9530 - accuracy: 0.2750 - val_loss: 0.9271 - val_accuracy: 0.2733\n",
      "Epoch 6/100\n",
      " 7/10 [====================>.........] - ETA: 0s - loss: 0.9568 - accuracy: 0.2478\n",
      "Epoch 00006: ReduceLROnPlateau reducing learning rate to 0.0002500000118743628.\n",
      "10/10 [==============================] - 0s 16ms/step - loss: 0.9402 - accuracy: 0.2533 - val_loss: 0.8983 - val_accuracy: 0.2733\n",
      "Epoch 7/100\n",
      "10/10 [==============================] - 0s 16ms/step - loss: 0.9256 - accuracy: 0.2817 - val_loss: 0.8846 - val_accuracy: 0.2733\n",
      "Epoch 8/100\n",
      " 8/10 [=======================>......] - ETA: 0s - loss: 0.9578 - accuracy: 0.2070\n",
      "Epoch 00008: ReduceLROnPlateau reducing learning rate to 0.0001250000059371814.\n",
      "10/10 [==============================] - 0s 16ms/step - loss: 0.9534 - accuracy: 0.2117 - val_loss: 0.8724 - val_accuracy: 0.2733\n",
      "Epoch 9/100\n",
      "10/10 [==============================] - 0s 16ms/step - loss: 0.9636 - accuracy: 0.2283 - val_loss: 0.8681 - val_accuracy: 0.2733\n",
      "Epoch 10/100\n",
      " 8/10 [=======================>......] - ETA: 0s - loss: 1.0516 - accuracy: 0.2148\n",
      "Epoch 00010: ReduceLROnPlateau reducing learning rate to 6.25000029685907e-05.\n",
      "10/10 [==============================] - 0s 16ms/step - loss: 1.0251 - accuracy: 0.2267 - val_loss: 0.8650 - val_accuracy: 0.2733\n",
      "Epoch 11/100\n",
      "10/10 [==============================] - 0s 16ms/step - loss: 1.0339 - accuracy: 0.2217 - val_loss: 0.8632 - val_accuracy: 0.2733\n",
      "Epoch 12/100\n",
      " 8/10 [=======================>......] - ETA: 0s - loss: 1.0310 - accuracy: 0.2305\n",
      "Epoch 00012: ReduceLROnPlateau reducing learning rate to 3.125000148429535e-05.\n",
      "10/10 [==============================] - 0s 16ms/step - loss: 1.0256 - accuracy: 0.2250 - val_loss: 0.8616 - val_accuracy: 0.2733\n",
      "Epoch 13/100\n",
      "10/10 [==============================] - 0s 13ms/step - loss: 1.0639 - accuracy: 0.2433 - val_loss: 0.8618 - val_accuracy: 0.2733\n",
      "Epoch 14/100\n",
      " 7/10 [====================>.........] - ETA: 0s - loss: 1.1381 - accuracy: 0.1920\n",
      "Epoch 00014: ReduceLROnPlateau reducing learning rate to 1.5625000742147677e-05.\n",
      "10/10 [==============================] - 0s 14ms/step - loss: 1.1146 - accuracy: 0.2000 - val_loss: 0.8624 - val_accuracy: 0.2733\n",
      "Epoch 15/100\n",
      "10/10 [==============================] - 0s 13ms/step - loss: 1.1276 - accuracy: 0.2150 - val_loss: 0.8627 - val_accuracy: 0.2733\n",
      "Epoch 16/100\n",
      " 7/10 [====================>.........] - ETA: 0s - loss: 1.0864 - accuracy: 0.2143\n",
      "Epoch 00016: ReduceLROnPlateau reducing learning rate to 7.812500371073838e-06.\n",
      "10/10 [==============================] - 0s 14ms/step - loss: 1.0555 - accuracy: 0.2250 - val_loss: 0.8628 - val_accuracy: 0.2733\n",
      "Epoch 17/100\n",
      "10/10 [==============================] - 0s 14ms/step - loss: 1.0776 - accuracy: 0.2250 - val_loss: 0.8628 - val_accuracy: 0.2733\n"
     ]
    }
   ],
   "source": [
    "history = model.fit(dataset,\n",
    "                    epochs=100,\n",
    "                    validation_data=valid_dataset,\n",
    "                    callbacks=callbacks,\n",
    "                   )"
   ]
  },
  {
   "cell_type": "code",
   "execution_count": null,
   "metadata": {},
   "outputs": [],
   "source": []
  }
 ],
 "metadata": {
  "kernelspec": {
   "display_name": "Python [conda env:data_env_TF2] *",
   "language": "python",
   "name": "conda-env-data_env_TF2-py"
  },
  "language_info": {
   "codemirror_mode": {
    "name": "ipython",
    "version": 3
   },
   "file_extension": ".py",
   "mimetype": "text/x-python",
   "name": "python",
   "nbconvert_exporter": "python",
   "pygments_lexer": "ipython3",
   "version": "3.7.9"
  }
 },
 "nbformat": 4,
 "nbformat_minor": 4
}
