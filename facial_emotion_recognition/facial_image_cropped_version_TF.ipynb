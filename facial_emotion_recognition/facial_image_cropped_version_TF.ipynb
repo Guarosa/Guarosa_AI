{
 "cells": [
  {
   "cell_type": "code",
   "execution_count": 1,
   "metadata": {
    "scrolled": true
   },
   "outputs": [],
   "source": [
    "import tensorflow as tf\n",
    "\n",
    "\n",
    "import cv2\n",
    "import os\n",
    "import matplotlib.pyplot as plt\n",
    "import sys\n",
    "\n",
    "import os.path as pth\n",
    "from tqdm import tqdm\n",
    "#import tqdm\n",
    "import pandas as pd \n",
    "import numpy as np\n",
    "from sklearn.model_selection import train_test_split\n",
    "import cv2\n",
    "\n",
    "gpus = tf.config.experimental.list_physical_devices('GPU')\n",
    "if gpus:\n",
    "    # 특정 GPU에 1GB 메모리만 할당하도록 제한\n",
    "    try:\n",
    "        tf.config.experimental.set_visible_devices(gpus[0], 'GPU')\n",
    "        \n",
    "        tf.config.experimental.set_memory_growth(gpus[0], True)\n",
    "        \n",
    "#         tf.config.experimental.set_virtual_device_configuration(\n",
    "#             gpus[0],\n",
    "#             [tf.config.experimental.VirtualDeviceConfiguration(memory_limit=15000)])\n",
    "    except RuntimeError as e:\n",
    "    # 프로그램 시작시에 가상 장치가 설정되어야만 합니다\n",
    "        print(e)"
   ]
  },
  {
   "cell_type": "code",
   "execution_count": null,
   "metadata": {},
   "outputs": [],
   "source": [
    "# cv2.imshow를 대신하는 함수\n",
    "# 반드시 먼저 실행\n",
    "\n",
    "def cv2_imshow(a, **kwargs):\n",
    "    a = a.clip(0, 255).astype('uint8')\n",
    "    # cv2 stores colors as BGR; convert to RGB\n",
    "    if a.ndim == 3:\n",
    "        if a.shape[2] == 4:\n",
    "            a = cv2.cvtColor(a, cv2.COLOR_BGRA2RGBA)\n",
    "        else:\n",
    "            a = cv2.cvtColor(a, cv2.COLOR_BGR2RGB)\n",
    "    return plt.imshow(a, **kwargs)"
   ]
  },
  {
   "cell_type": "markdown",
   "metadata": {},
   "source": [
    "# 1. 이미지 얼굴만 크롭"
   ]
  },
  {
   "cell_type": "markdown",
   "metadata": {},
   "source": [
    "## 1-1. 얼굴 크롭하기"
   ]
  },
  {
   "cell_type": "code",
   "execution_count": null,
   "metadata": {
    "scrolled": true
   },
   "outputs": [],
   "source": [
    "# 여백있게 크롭하기\n",
    "\n",
    "img_list = list()\n",
    "\n",
    "\n",
    "face_cascade = cv2.CascadeClassifier('./data/haarcascade_frontface.xml')\n",
    "eye_casecade = cv2.CascadeClassifier('../haarcascades/haarcascade_eye.xml')\n",
    "\n",
    "\n",
    "\n",
    "for name in os.listdir('./data/emotion_img'):\n",
    "    img_list.append(name)\n",
    "    \n",
    "\n",
    "    img = cv2.imread('./data/emotion_img/' + name)\n",
    "    # print(img.shape)\n",
    "    # (720, 1280, 3) -> 이미지 사이즈 1280*720, 컬러 이미지 \n",
    "    \n",
    "    gray = cv2.cvtColor(img, cv2.COLOR_BGR2GRAY)\n",
    "    \n",
    "\n",
    "    face = face_cascade.detectMultiScale(gray, 1.3, 5)\n",
    "    \n",
    "    img_w = img.shape[1]\n",
    "    img_h = img.shape[0]\n",
    "        \n",
    "    \n",
    "    if (len(face)==0):\n",
    "        print('face none or lengh is zero:' + name)\n",
    "    \n",
    "    \n",
    "    else:\n",
    "        \n",
    "        for (x,y,w,h) in face:\n",
    "            \n",
    "            crop_point_y = y - int(h/4)\n",
    "            crop_len_h = y + h + int(h/4)\n",
    "            crop_point_x = x - int(w/4)\n",
    "            crop_len_w = x + w + int(w/4)\n",
    "            \n",
    "            if crop_point_y < 0: \n",
    "                crop_point_y = 0\n",
    "                \n",
    "            if crop_point_x < 0:\n",
    "                crop_point_x = 0\n",
    "            \n",
    "            if crop_len_h > img_h:\n",
    "                crop_len_h = img_h\n",
    "            \n",
    "            if crop_len_w > img_w:\n",
    "                crop_len_w = img_w\n",
    "\n",
    "            cropped = img[crop_point_y:crop_len_h, crop_point_x:crop_len_w]\n",
    "            \n",
    "            \n",
    "            try:\n",
    "                cv2.imwrite('./data/cropped_img/%s' %name, cropped)\n",
    "            except:\n",
    "                print(\"cv2 error\")\n",
    "                print(\"{}/{}/{}/{}\".format(x,y,w,h))\n",
    "                print(name)\n",
    "                continue\n",
    "\n",
    "\n",
    "\n",
    "            cv2.rectangle(img, (x,y), (x+w, y+h), (255,0,0),2)\n",
    "            roi_gray = gray[y:y+h, x:x+w]\n",
    "            roi_color = img[y:y+h, x:x+w]\n",
    "\n",
    "\n",
    "\n",
    "# cv2_imshow(cropped)\n",
    "# cv2.waitKey(0)\n",
    "\n",
    "\n"
   ]
  },
  {
   "cell_type": "markdown",
   "metadata": {},
   "source": [
    "## 1-2. 크롭한 사진 리사이징"
   ]
  },
  {
   "cell_type": "code",
   "execution_count": null,
   "metadata": {},
   "outputs": [],
   "source": [
    "from PIL import Image\n",
    "\n",
    "# image = Image.open('./data/test2.jpg')\n",
    "\n",
    "# resize_image = image.resize((600,600))\n",
    "\n",
    "# resize_image.save('./data/test2_re.jpg')\n",
    "\n",
    "for filename in os.listdir('./data/cropped_img'):\n",
    "    filepath = './data/cropped_img' + '/' + filename\n",
    "    \n",
    "    image = Image.open(filepath)\n",
    "    \n",
    "    resize_image = image.resize((600,600))\n",
    "    \n",
    "    resize_image.save('./data/cropped_img_resize' +'/' + filename)\n",
    "    \n",
    "    "
   ]
  },
  {
   "cell_type": "code",
   "execution_count": 7,
   "metadata": {},
   "outputs": [],
   "source": [
    "# 더 낮은 화소로 리사이징\n",
    "\n",
    "from PIL import Image\n",
    "\n",
    "# image = Image.open('./data/test2.jpg')\n",
    "\n",
    "# resize_image = image.resize((224,224))\n",
    "\n",
    "# resize_image.save('./data/test_40_re.jpg')\n",
    "\n",
    "for filename in os.listdir('./data/cropped_img'):\n",
    "    filepath = './data/cropped_img' + '/' + filename\n",
    "    \n",
    "    image = Image.open(filepath)\n",
    "    \n",
    "    resize_image = image.resize((224,224))\n",
    "    \n",
    "    resize_image.save('./data/emotion_crop_224' +'/' + filename)"
   ]
  },
  {
   "cell_type": "code",
   "execution_count": 15,
   "metadata": {},
   "outputs": [],
   "source": [
    "# 동영상에서 앞 1초(=30프레임까지) 제외\n",
    "\n",
    "import shutil # 동영상 옮기는 모듈\n",
    "\n",
    "pre_path = './data/emotion_crop_224'\n",
    "post_path = './data/emotion_crop_224_exclusion'\n",
    "moved_name = list()\n",
    "\n",
    "for filename in os.listdir(pre_path):\n",
    "    \n",
    "    frame = int(filename.split('_')[1].split('.')[0])\n",
    "    \n",
    "    if frame < 31:\n",
    "        moved_name.append(filename)\n",
    "        \n",
    "for file in moved_name:\n",
    "    shutil.move(pre_path + '/' + file,\n",
    "                post_path + '/' + file)\n",
    "        "
   ]
  },
  {
   "cell_type": "code",
   "execution_count": 17,
   "metadata": {},
   "outputs": [
    {
     "data": {
      "text/plain": [
       "25772"
      ]
     },
     "execution_count": 17,
     "metadata": {},
     "output_type": "execute_result"
    }
   ],
   "source": [
    "93931-68159"
   ]
  },
  {
   "cell_type": "markdown",
   "metadata": {},
   "source": [
    "# 2. 데이터 불러오기"
   ]
  },
  {
   "cell_type": "code",
   "execution_count": 21,
   "metadata": {
    "scrolled": true
   },
   "outputs": [
    {
     "name": "stdout",
     "output_type": "stream",
     "text": [
      "   Num    Emotion\n",
      "0    1    Neutral\n",
      "1    2      Happy\n",
      "2    3        Sad\n",
      "3    4      Angry\n",
      "4    5    Fearful\n",
      "5    6    Disgust\n",
      "6    7  Surprised\n"
     ]
    },
    {
     "data": {
      "text/plain": [
       "'Sad'"
      ]
     },
     "execution_count": 21,
     "metadata": {},
     "output_type": "execute_result"
    }
   ],
   "source": [
    "# 엑셀 1번 시트에 맞춰 라벨링\n",
    "\n",
    "label_df = pd.read_excel('./data/categries_emo.xlsx')\n",
    "label_dict = dict(label_df[['Num','Emotion']].values)\n",
    "\n",
    "\n",
    "# 파일 제목에서 3번째 항목만 사용\n",
    "print(label_df)\n",
    "\n",
    "emotion_arr = label_df.loc[:,'Num'].values\n",
    "\n",
    "\n",
    "emotion_list = emotion_arr.tolist()\n",
    "#print(emotion_list)\n",
    "\n",
    "\n",
    "# 리턴되는지 확인\n",
    "label_dict[3]"
   ]
  },
  {
   "cell_type": "code",
   "execution_count": 22,
   "metadata": {
    "scrolled": false
   },
   "outputs": [
    {
     "data": {
      "text/html": [
       "<div>\n",
       "<style scoped>\n",
       "    .dataframe tbody tr th:only-of-type {\n",
       "        vertical-align: middle;\n",
       "    }\n",
       "\n",
       "    .dataframe tbody tr th {\n",
       "        vertical-align: top;\n",
       "    }\n",
       "\n",
       "    .dataframe thead th {\n",
       "        text-align: right;\n",
       "    }\n",
       "</style>\n",
       "<table border=\"1\" class=\"dataframe\">\n",
       "  <thead>\n",
       "    <tr style=\"text-align: right;\">\n",
       "      <th></th>\n",
       "      <th>file</th>\n",
       "      <th>label</th>\n",
       "      <th>emotion</th>\n",
       "    </tr>\n",
       "  </thead>\n",
       "  <tbody>\n",
       "    <tr>\n",
       "      <th>0</th>\n",
       "      <td>./data/emotion_crop_224/02-01-07-02-01-02-12_9...</td>\n",
       "      <td>6</td>\n",
       "      <td>Disgust</td>\n",
       "    </tr>\n",
       "    <tr>\n",
       "      <th>1</th>\n",
       "      <td>./data/emotion_crop_224/02-01-06-01-01-02-12_1...</td>\n",
       "      <td>5</td>\n",
       "      <td>Fearful</td>\n",
       "    </tr>\n",
       "    <tr>\n",
       "      <th>2</th>\n",
       "      <td>./data/emotion_crop_224/02-01-06-01-01-02-12_6...</td>\n",
       "      <td>5</td>\n",
       "      <td>Fearful</td>\n",
       "    </tr>\n",
       "    <tr>\n",
       "      <th>3</th>\n",
       "      <td>./data/emotion_crop_224/02-01-08-01-01-01-12_9...</td>\n",
       "      <td>7</td>\n",
       "      <td>Surprised</td>\n",
       "    </tr>\n",
       "    <tr>\n",
       "      <th>4</th>\n",
       "      <td>./data/emotion_crop_224/02-01-08-01-02-02-12_7...</td>\n",
       "      <td>7</td>\n",
       "      <td>Surprised</td>\n",
       "    </tr>\n",
       "    <tr>\n",
       "      <th>...</th>\n",
       "      <td>...</td>\n",
       "      <td>...</td>\n",
       "      <td>...</td>\n",
       "    </tr>\n",
       "    <tr>\n",
       "      <th>68154</th>\n",
       "      <td>./data/emotion_crop_224/02-01-07-01-01-02-08_5...</td>\n",
       "      <td>6</td>\n",
       "      <td>Disgust</td>\n",
       "    </tr>\n",
       "    <tr>\n",
       "      <th>68155</th>\n",
       "      <td>./data/emotion_crop_224/02-01-02-02-02-01-06_8...</td>\n",
       "      <td>1</td>\n",
       "      <td>Neutral</td>\n",
       "    </tr>\n",
       "    <tr>\n",
       "      <th>68156</th>\n",
       "      <td>./data/emotion_crop_224/02-01-08-02-01-01-21_5...</td>\n",
       "      <td>7</td>\n",
       "      <td>Surprised</td>\n",
       "    </tr>\n",
       "    <tr>\n",
       "      <th>68157</th>\n",
       "      <td>./data/emotion_crop_224/02-01-07-02-02-02-20_5...</td>\n",
       "      <td>6</td>\n",
       "      <td>Disgust</td>\n",
       "    </tr>\n",
       "    <tr>\n",
       "      <th>68158</th>\n",
       "      <td>./data/emotion_crop_224/02-01-06-01-02-02-02_3...</td>\n",
       "      <td>5</td>\n",
       "      <td>Fearful</td>\n",
       "    </tr>\n",
       "  </tbody>\n",
       "</table>\n",
       "<p>68159 rows × 3 columns</p>\n",
       "</div>"
      ],
      "text/plain": [
       "                                                    file label    emotion\n",
       "0      ./data/emotion_crop_224/02-01-07-02-01-02-12_9...     6    Disgust\n",
       "1      ./data/emotion_crop_224/02-01-06-01-01-02-12_1...     5    Fearful\n",
       "2      ./data/emotion_crop_224/02-01-06-01-01-02-12_6...     5    Fearful\n",
       "3      ./data/emotion_crop_224/02-01-08-01-01-01-12_9...     7  Surprised\n",
       "4      ./data/emotion_crop_224/02-01-08-01-02-02-12_7...     7  Surprised\n",
       "...                                                  ...   ...        ...\n",
       "68154  ./data/emotion_crop_224/02-01-07-01-01-02-08_5...     6    Disgust\n",
       "68155  ./data/emotion_crop_224/02-01-02-02-02-01-06_8...     1    Neutral\n",
       "68156  ./data/emotion_crop_224/02-01-08-02-01-01-21_5...     7  Surprised\n",
       "68157  ./data/emotion_crop_224/02-01-07-02-02-02-20_5...     6    Disgust\n",
       "68158  ./data/emotion_crop_224/02-01-06-01-02-02-02_3...     5    Fearful\n",
       "\n",
       "[68159 rows x 3 columns]"
      ]
     },
     "execution_count": 22,
     "metadata": {},
     "output_type": "execute_result"
    }
   ],
   "source": [
    "# 크롭한 이미지 파일의 경로 + 라벨링 df 생성\n",
    "\n",
    "files = list()\n",
    "categories = list()\n",
    "\n",
    "\n",
    "# for filename in os.listdir('./data/cropped_img_resize'):\n",
    "for filename in os.listdir('./data/emotion_crop_224'):\n",
    "    filepath = './data/emotion_crop_224' + '/' + filename\n",
    "    files.append(filepath)\n",
    "    \n",
    "    emo = filename[7]\n",
    "\n",
    "    # 4개 감정으로 리턴\n",
    "    if emo == '1' or emo == '2':\n",
    "        categories.append('1') # Neutral\n",
    "    \n",
    "    elif emo == '3':\n",
    "        categories.append('2') # Happy\n",
    "    \n",
    "    elif emo == '4':\n",
    "        categories.append('3') # Sad\n",
    "        \n",
    "    elif emo == '5':\n",
    "        categories.append('4') # Angry\n",
    "        \n",
    "    elif emo == '6':\n",
    "        categories.append('5') # Fearful\n",
    "        \n",
    "    elif emo == '7':\n",
    "        categories.append('6') # Disgust\n",
    "        \n",
    "    else:\n",
    "        categories.append('7') # Surprised\n",
    "        \n",
    "\n",
    "re_train_data = pd.DataFrame({'file':files,\n",
    "                              'label':categories})\n",
    "\n",
    "#     # 8개 감정으로 리턴\n",
    "#     for n in emo:\n",
    "#         categories.append(n)\n",
    "        \n",
    "# cro_train_data = pd.DataFrame({'file':files,\n",
    "#                                'label':categories})\n",
    "    \n",
    "\n",
    "# cro_train_data\n",
    "\n",
    "    \n",
    "    \n",
    "label = re_train_data.loc[:,'label'].values\n",
    "emotion = list()\n",
    "\n",
    "for n in label:\n",
    "    emotion.append(label_dict[int(n)])\n",
    "    \n",
    "    \n",
    "re_train_data['emotion'] = emotion\n",
    "re_train_data"
   ]
  },
  {
   "cell_type": "markdown",
   "metadata": {},
   "source": [
    "## 2-2. 감정별 데이터 갯수 확인"
   ]
  },
  {
   "cell_type": "code",
   "execution_count": null,
   "metadata": {
    "scrolled": true
   },
   "outputs": [],
   "source": [
    "# 기존 8개 감정 -> Neutral, calm 차이 없음\n",
    "\n",
    "grouped_cro = cro_train_data['file'].groupby(cro_train_data['emotion'])\n",
    "\n",
    "# print(grouped_cro)\n",
    "\n",
    "grouped_cro.size()"
   ]
  },
  {
   "cell_type": "code",
   "execution_count": 23,
   "metadata": {
    "scrolled": true
   },
   "outputs": [
    {
     "data": {
      "text/plain": [
       "emotion\n",
       "Angry         9778\n",
       "Disgust       9933\n",
       "Fearful       8717\n",
       "Happy         8945\n",
       "Neutral      13434\n",
       "Sad           9006\n",
       "Surprised     8346\n",
       "Name: file, dtype: int64"
      ]
     },
     "execution_count": 23,
     "metadata": {},
     "output_type": "execute_result"
    }
   ],
   "source": [
    "# 7개 감정으로 변경\n",
    "\n",
    "grouped_re = re_train_data['file'].groupby(re_train_data['emotion'])\n",
    "\n",
    "# print(grouped_cro)\n",
    "\n",
    "grouped_re.size()"
   ]
  },
  {
   "cell_type": "markdown",
   "metadata": {},
   "source": [
    "# 3. TFrecord 생성"
   ]
  },
  {
   "cell_type": "markdown",
   "metadata": {},
   "source": [
    "## 3-1. TFrecord 타입 변환 함수"
   ]
  },
  {
   "cell_type": "code",
   "execution_count": 24,
   "metadata": {},
   "outputs": [],
   "source": [
    "def _bytes_feature(value):\n",
    "    \"\"\"Returns a bytes_list from a string / byte.\"\"\"\n",
    "    if isinstance(value, type(tf.constant(0))):\n",
    "        value = value.numpy() # BytesList won't unpack a string from an EagerTensor.\n",
    "    return tf.train.Feature(bytes_list=tf.train.BytesList(value=[value]))\n",
    "\n",
    "def _float_feature(value):\n",
    "    \"\"\"Returns a float_list from a float / double.\"\"\"\n",
    "    return tf.train.Feature(float_list=tf.train.FloatList(value=[value]))\n",
    "\n",
    "def _floatarray_feature(array):\n",
    "    \"\"\"Returns a float_list from a float / double.\"\"\"\n",
    "    return tf.train.Feature(float_list=tf.train.FloatList(value=array))\n",
    "\n",
    "def _int64_feature(value):\n",
    "    \"\"\"Returns an int64_list from a bool / enum / int / uint.\"\"\"\n",
    "    return tf.train.Feature(int64_list=tf.train.Int64List(value=[value]))\n",
    "\n",
    "\n",
    "def _validate_text(text):\n",
    "    \"\"\"If text is not str or unicode, then try to convert it to str.\"\"\"\n",
    "    if isinstance(text, str):\n",
    "        return text\n",
    "    elif isinstance(text, 'unicode'):\n",
    "        return text.encode('utf8', 'ignore')\n",
    "    else:\n",
    "        return str(text)"
   ]
  },
  {
   "cell_type": "markdown",
   "metadata": {},
   "source": [
    "## 3-2. TFrecord 변환 함수"
   ]
  },
  {
   "cell_type": "code",
   "execution_count": 25,
   "metadata": {},
   "outputs": [],
   "source": [
    "def to_tfrecords(id_list, emotion_list, tfrecords_name):\n",
    "    print(\"Start converting\")\n",
    "    options = tf.io.TFRecordOptions(compression_type = 'GZIP')\n",
    "    with tf.io.TFRecordWriter(path=pth.join(tfrecords_name+'.tfrecords'), options=options) as writer:\n",
    "        for id_, emotion_id in tqdm(zip(id_list, emotion_list), total=len(id_list), position=0, leave=True):\n",
    "            image_path = pth.join(id_) # 불러올 이미지 위치 입력\n",
    "            _binary_image = tf.io.read_file(image_path)\n",
    "            \n",
    "            # 타입 변환 함수 넣어서 타입 맞추기    \n",
    "            string_set = tf.train.Example(features=tf.train.Features(feature={\n",
    "                'image_raw': _bytes_feature(_binary_image),\n",
    "                'img_id': _bytes_feature(emotion_id.encode()),\n",
    "                'id': _bytes_feature(_validate_text(id_).encode()),\n",
    "            }))\n",
    "\n",
    "            writer.write(string_set.SerializeToString())   "
   ]
  },
  {
   "cell_type": "code",
   "execution_count": 26,
   "metadata": {
    "scrolled": true
   },
   "outputs": [
    {
     "name": "stderr",
     "output_type": "stream",
     "text": [
      "  0%|          | 198/54527 [00:00<00:27, 1979.04it/s]"
     ]
    },
    {
     "name": "stdout",
     "output_type": "stream",
     "text": [
      "Start converting\n"
     ]
    },
    {
     "name": "stderr",
     "output_type": "stream",
     "text": [
      "100%|██████████| 54527/54527 [00:26<00:00, 2026.29it/s]\n",
      "  2%|▏         | 210/13632 [00:00<00:06, 2098.39it/s]"
     ]
    },
    {
     "name": "stdout",
     "output_type": "stream",
     "text": [
      "Start converting\n"
     ]
    },
    {
     "name": "stderr",
     "output_type": "stream",
     "text": [
      "100%|██████████| 13632/13632 [00:07<00:00, 1914.25it/s]\n"
     ]
    }
   ],
   "source": [
    "# train, valid set 나누기\n",
    "with tf.device('/device:GPU:0'):\n",
    "    train_ids, val_ids, train_emotion_ids, val_emotion_ids = train_test_split(re_train_data['file'], re_train_data['label'], test_size=0.2, random_state=42, shuffle=True,\n",
    "                                                                              stratify=re_train_data['label'])\n",
    "# 파일이 생성될 위치 지정\n",
    "    to_tfrecords(train_ids, train_emotion_ids, pth.join('./data/emotion_crop_re_tf', 'tf_record_train_7'))\n",
    "    to_tfrecords(val_ids, val_emotion_ids, pth.join('./data/emotion_crop_re_tf', 'tf_record_valid_7'))"
   ]
  },
  {
   "cell_type": "markdown",
   "metadata": {},
   "source": [
    "# 4. TFrecord 테스트"
   ]
  },
  {
   "cell_type": "code",
   "execution_count": 27,
   "metadata": {},
   "outputs": [],
   "source": [
    "train_tfrecord_path = pth.join('./data/emotion_crop_re_tf', 'tf_record_train_7.tfrecords')\n",
    "valid_tfrecord_path = pth.join('./data/emotion_crop_re_tf', 'tf_record_valid_7.tfrecords')\n",
    "\n",
    "BUFFER_SIZE = 256\n",
    "BATCH_SIZE = 64\n",
    "NUM_CLASS = 7"
   ]
  },
  {
   "cell_type": "code",
   "execution_count": 28,
   "metadata": {},
   "outputs": [
    {
     "name": "stdout",
     "output_type": "stream",
     "text": [
      "1\n",
      "tf.Tensor([0. 1. 0. 0. 0. 0. 0.], shape=(7,), dtype=float32)\n",
      "2\n",
      "tf.Tensor([0. 0. 1. 0. 0. 0. 0.], shape=(7,), dtype=float32)\n",
      "3\n",
      "tf.Tensor([0. 0. 0. 1. 0. 0. 0.], shape=(7,), dtype=float32)\n",
      "4\n",
      "tf.Tensor([0. 0. 0. 0. 1. 0. 0.], shape=(7,), dtype=float32)\n",
      "5\n",
      "tf.Tensor([0. 0. 0. 0. 0. 1. 0.], shape=(7,), dtype=float32)\n",
      "6\n",
      "tf.Tensor([0. 0. 0. 0. 0. 0. 1.], shape=(7,), dtype=float32)\n",
      "7\n",
      "tf.Tensor([0. 0. 0. 0. 0. 0. 0.], shape=(7,), dtype=float32)\n"
     ]
    }
   ],
   "source": [
    "# one-hot encoding test\n",
    "\n",
    "listTemp=[1,2,3,4,5,6,7]\n",
    "for n in listTemp:\n",
    "    test = tf.one_hot(n, depth=NUM_CLASS)\n",
    "    print(\"{}\".format(n))\n",
    "    print(test)\n",
    "    \n"
   ]
  },
  {
   "cell_type": "code",
   "execution_count": 29,
   "metadata": {
    "scrolled": true
   },
   "outputs": [
    {
     "name": "stdout",
     "output_type": "stream",
     "text": [
      "<class 'tensorflow.python.framework.ops.Tensor'>\n",
      "<class 'tensorflow.python.framework.ops.Tensor'>\n"
     ]
    }
   ],
   "source": [
    "with tf.device('/device:GPU:0'):\n",
    "    image_feature_description = {\n",
    "        'image_raw': tf.io.FixedLenFeature([], tf.string),\n",
    "        'img_id': tf.io.FixedLenFeature([], tf.string),\n",
    "        # 'id': tf.io.FixedLenFeature([], tf.string),\n",
    "    }\n",
    "\n",
    "\n",
    "\n",
    "    def _parse_image_function(example_proto):\n",
    "        return tf.io.parse_single_example(example_proto, image_feature_description)\n",
    "\n",
    "    def map_func(target_record):\n",
    "        \n",
    "        img = target_record['image_raw']\n",
    "        label = int(target_record['img_id'])\n",
    "        img = tf.image.decode_jpeg(img, channels=3)\n",
    "        img = tf.dtypes.cast(img, tf.float32)\n",
    "        return img, label\n",
    "\n",
    "    def prep_func(image, label):\n",
    "        print(type(label))\n",
    "            \n",
    "        result_image = image / 255\n",
    "        result_image = tf.image.resize(result_image, (224,224))\n",
    "        \n",
    "        onehot_label = tf.one_hot(label, depth=NUM_CLASS)\n",
    "        return result_image, onehot_label\n",
    "\n",
    "    \n",
    "with tf.device('/device:GPU:0'):\n",
    "    dataset = tf.data.TFRecordDataset(train_tfrecord_path, compression_type='GZIP')\n",
    "    dataset = dataset.map(_parse_image_function, num_parallel_calls=tf.data.experimental.AUTOTUNE)\n",
    "    dataset = dataset.map(map_func, num_parallel_calls=tf.data.experimental.AUTOTUNE)\n",
    "    dataset = dataset.shuffle(BUFFER_SIZE)\n",
    "    dataset = dataset.batch(BATCH_SIZE)\n",
    "    dataset = dataset.map(prep_func, num_parallel_calls=tf.data.experimental.AUTOTUNE)\n",
    "    dataset = dataset.prefetch(buffer_size=tf.data.experimental.AUTOTUNE)\n",
    "\n",
    "    valid_dataset = tf.data.TFRecordDataset(valid_tfrecord_path, compression_type='GZIP')\n",
    "    valid_dataset = valid_dataset.map(_parse_image_function, num_parallel_calls=tf.data.experimental.AUTOTUNE)\n",
    "    valid_dataset = valid_dataset.map(map_func, num_parallel_calls=tf.data.experimental.AUTOTUNE)\n",
    "    valid_dataset = valid_dataset.shuffle(BUFFER_SIZE)\n",
    "    valid_dataset = valid_dataset.batch(BATCH_SIZE)\n",
    "    valid_dataset = valid_dataset.map(prep_func, num_parallel_calls=tf.data.experimental.AUTOTUNE)\n",
    "    valid_dataset = valid_dataset.prefetch(buffer_size=tf.data.experimental.AUTOTUNE)"
   ]
  },
  {
   "cell_type": "code",
   "execution_count": 36,
   "metadata": {
    "scrolled": true
   },
   "outputs": [
    {
     "name": "stdout",
     "output_type": "stream",
     "text": [
      "(64, 224, 224, 3) (64, 7)\n",
      "[0. 0. 0. 0. 0. 0. 1.]\n",
      "Disgust\n"
     ]
    },
    {
     "data": {
      "image/png": "[encoded data removed]",
      "text/plain": [
       "<Figure size 432x288 with 1 Axes>"
      ]
     },
     "metadata": {
      "needs_background": "light"
     },
     "output_type": "display_data"
    }
   ],
   "source": [
    "for batch_x, batch_y in dataset:\n",
    "    print(batch_x.shape, batch_y.shape)\n",
    "    print(batch_y[0].numpy())\n",
    "\n",
    "    target_class = np.argmax(batch_y[0].numpy())\n",
    "    \n",
    "    if target_class == 0:\n",
    "        target_class = 7\n",
    "        \n",
    "    \n",
    "    print(label_dict[target_class])\n",
    "    \n",
    "#     if target_class==1:\n",
    "#         plt.figure()\n",
    "#         plt.imshow(batch_x[0].numpy())\n",
    "#         plt.show()\n",
    "#         break\n",
    "        \n",
    "    plt.figure()\n",
    "    plt.imshow(batch_x[0].numpy())\n",
    "    plt.show()\n",
    "    \n",
    "    break"
   ]
  },
  {
   "cell_type": "code",
   "execution_count": 43,
   "metadata": {
    "scrolled": true
   },
   "outputs": [
    {
     "name": "stdout",
     "output_type": "stream",
     "text": [
      "(64, 224, 224, 3) (64, 7)\n",
      "Neutral\n"
     ]
    },
    {
     "data": {
      "image/png": "[encoded data removed]",
      "text/plain": [
       "<Figure size 432x288 with 1 Axes>"
      ]
     },
     "metadata": {
      "needs_background": "light"
     },
     "output_type": "display_data"
    }
   ],
   "source": [
    "for batch_x, batch_y in valid_dataset:\n",
    "    print(batch_x.shape, batch_y.shape)\n",
    "    \n",
    "    target_class = np.argmax(batch_y[0].numpy())\n",
    "    #print(target_class)\n",
    "    \n",
    "    if target_class == 0:\n",
    "        target_class = 7\n",
    "    \n",
    "    print(label_dict[target_class])\n",
    "    \n",
    "    plt.figure()\n",
    "    plt.imshow(batch_x[0].numpy())\n",
    "    plt.show()\n",
    "    \n",
    "    break"
   ]
  },
  {
   "cell_type": "code",
   "execution_count": null,
   "metadata": {},
   "outputs": [],
   "source": []
  },
  {
   "cell_type": "code",
   "execution_count": null,
   "metadata": {},
   "outputs": [],
   "source": []
  }
 ],
 "metadata": {
  "kernelspec": {
   "display_name": "Python [conda env:data_env_TF2] *",
   "language": "python",
   "name": "conda-env-data_env_TF2-py"
  },
  "language_info": {
   "codemirror_mode": {
    "name": "ipython",
    "version": 3
   },
   "file_extension": ".py",
   "mimetype": "text/x-python",
   "name": "python",
   "nbconvert_exporter": "python",
   "pygments_lexer": "ipython3",
   "version": "3.7.9"
  }
 },
 "nbformat": 4,
 "nbformat_minor": 4
}
