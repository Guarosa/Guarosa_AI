{
 "cells": [
  {
   "cell_type": "code",
   "execution_count": 1,
   "metadata": {},
   "outputs": [],
   "source": [
    "import matplotlib.pyplot as plt\n",
    "import cv2\n",
    "import mediapipe as mp"
   ]
  },
  {
   "cell_type": "code",
   "execution_count": 2,
   "metadata": {},
   "outputs": [],
   "source": [
    "def cv2_imshow(a, **kwargs):\n",
    "    a = a.clip(0, 255).astype('uint8')\n",
    "    # cv2 stores colors as BGR; convert to RGB\n",
    "    if a.ndim == 3:\n",
    "        if a.shape[2] == 4:\n",
    "            a = cv2.cvtColor(a, cv2.COLOR_BGRA2RGBA)\n",
    "        else:\n",
    "            a = cv2.cvtColor(a, cv2.COLOR_BGR2RGB)\n",
    "    return plt.imshow(a, **kwargs)"
   ]
  },
  {
   "cell_type": "code",
   "execution_count": 7,
   "metadata": {},
   "outputs": [
    {
     "ename": "NameError",
     "evalue": "name 'file_list' is not defined",
     "output_type": "error",
     "traceback": [
      "\u001b[0;31m---------------------------------------------------------------------------\u001b[0m",
      "\u001b[0;31mNameError\u001b[0m                                 Traceback (most recent call last)",
      "\u001b[0;32m<ipython-input-7-a8fcf23f2555>\u001b[0m in \u001b[0;36m<module>\u001b[0;34m\u001b[0m\n\u001b[1;32m     12\u001b[0m \u001b[0;34m\u001b[0m\u001b[0m\n\u001b[1;32m     13\u001b[0m \u001b[0;34m\u001b[0m\u001b[0m\n\u001b[0;32m---> 14\u001b[0;31m \u001b[0;32mfor\u001b[0m \u001b[0midx\u001b[0m\u001b[0;34m,\u001b[0m \u001b[0mfile\u001b[0m \u001b[0;32min\u001b[0m \u001b[0menumerate\u001b[0m\u001b[0;34m(\u001b[0m\u001b[0mfile_list\u001b[0m\u001b[0;34m)\u001b[0m\u001b[0;34m:\u001b[0m\u001b[0;34m\u001b[0m\u001b[0;34m\u001b[0m\u001b[0m\n\u001b[0m\u001b[1;32m     15\u001b[0m     \u001b[0mimage\u001b[0m \u001b[0;34m=\u001b[0m \u001b[0mcv2\u001b[0m\u001b[0;34m.\u001b[0m\u001b[0mimread\u001b[0m\u001b[0;34m(\u001b[0m\u001b[0mfile\u001b[0m\u001b[0;34m)\u001b[0m\u001b[0;34m\u001b[0m\u001b[0;34m\u001b[0m\u001b[0m\n\u001b[1;32m     16\u001b[0m     \u001b[0;31m# Convert the BGR image to RGB before processing.\u001b[0m\u001b[0;34m\u001b[0m\u001b[0;34m\u001b[0m\u001b[0;34m\u001b[0m\u001b[0m\n",
      "\u001b[0;31mNameError\u001b[0m: name 'file_list' is not defined"
     ]
    }
   ],
   "source": [
    "mp_drawing = mp.solutions.drawing_utils\n",
    "mp_face_mesh = mp.solutions.face_mesh\n",
    "\n",
    "\n",
    "# for static images\n",
    "face_mesh = mp_face_mesh.FaceMesh(static_image_mode=True,\n",
    "                                  max_num_faces=1,\n",
    "                                  min_detection_confidence=0.5)\n",
    "\n",
    "drawing_spec = mp_drawing.DrawingSpec(thickness=1, \n",
    "                                      circle_radius=1)\n",
    "\n",
    "\n",
    "for idx, file in enumerate(file_list):\n",
    "    image = cv2.imread(file)\n",
    "    # Convert the BGR image to RGB before processing.\n",
    "    results = face_mesh.process(cv2.cvtColor(image, \n",
    "                                             cv2.COLOR_BAYER_BG2BGR))\n",
    "    \n"
   ]
  },
  {
   "cell_type": "code",
   "execution_count": null,
   "metadata": {},
   "outputs": [],
   "source": [
    "# Print and draw face mesh landmarks on the image\n",
    "if not results.multi_face_landmarks:\n",
    "    continue\n",
    "annotated_image = image.copy()\n",
    "\n",
    "for face_landmarks in results.multi_face_landmarks:\n",
    "    print('face_landmarks:', face_landmarkes)\n",
    "    mp_drawing.draw_landmarks(image = annotated_image,\n",
    "                              landmark_list = face_landmarks,\n",
    "                              connections = mp_face_mesh.FACE_CONNECTIONS, \n",
    "                              landmark_drawing_spec = drawing_spec,\n",
    "                              connection_drawing_spec = drawing_spec)\n",
    "cv2.imwrite('/tmp/annotated_image' + str(idx) + '.png', image)\n",
    "\n",
    "face_mesh.close()"
   ]
  },
  {
   "cell_type": "code",
   "execution_count": null,
   "metadata": {},
   "outputs": [],
   "source": [
    "# For webcam input:\n",
    "face_mesh = mp_face_mesh.FaceMesh(min_detection_confidence=0.5, \n",
    "                                  min_tracking_confidence=0.5)\n",
    "drawing_spec = mp_drawing.DrawingSpec(thickness=1, \n",
    "                                      circle_radius=1)\n",
    "cap = cv2.VideoCapture(0)\n",
    "\n",
    "while cap.isOpened():\n",
    "  success, image = cap.read()\n",
    "  if not success:\n",
    "    break\n",
    "    \n",
    "    \n",
    "# Flip the image horizontally for a later selfie-view display, and convert\n",
    "# the BGR image to RGB.\n",
    "image = cv2.cvtColor(cv2.flip(image, 1), cv2.COLOR_BGR2RGB)\n",
    "\n",
    "\n",
    "# To improve performance, optionally mark the image as not writeable to\n",
    "# pass by reference.\n",
    "image.flags.writeable = False\n",
    "results = face_mesh.process(image)"
   ]
  },
  {
   "cell_type": "code",
   "execution_count": null,
   "metadata": {},
   "outputs": [],
   "source": [
    "# Draw the face mesh annotations on the image.\n",
    "image.flags.writeable = True\n",
    "image = cv2.cvtColor(image, cv2.COLOR_RGB2BGR)\n",
    "\n",
    "if results.multi_face_landmarks:\n",
    "for face_landmarks in results.multi_face_landmarks:\n",
    "  mp_drawing.draw_landmarks(\n",
    "      image=image,\n",
    "      landmark_list=face_landmarks,\n",
    "      connections=mp_face_mesh.FACE_CONNECTIONS,\n",
    "      landmark_drawing_spec=drawing_spec,\n",
    "      connection_drawing_spec=drawing_spec)\n",
    "cv2_imshow('MediaPipe FaceMesh', image)\n",
    "if cv2.waitKey(5) & 0xFF == 27:\n",
    "break\n",
    "face_mesh.close()\n",
    "cap.release()"
   ]
  }
 ],
 "metadata": {
  "kernelspec": {
   "display_name": "Python [conda env:tensorflow2_p36] *",
   "language": "python",
   "name": "conda-env-tensorflow2_p36-py"
  },
  "language_info": {
   "codemirror_mode": {
    "name": "ipython",
    "version": 3
   },
   "file_extension": ".py",
   "mimetype": "text/x-python",
   "name": "python",
   "nbconvert_exporter": "python",
   "pygments_lexer": "ipython3",
   "version": "3.6.10"
  }
 },
 "nbformat": 4,
 "nbformat_minor": 4
}
